{
  "nbformat": 4,
  "nbformat_minor": 0,
  "metadata": {
    "colab": {
      "name": "Machine Learning vs. Deep Learning.ipynb",
      "provenance": [],
      "collapsed_sections": [],
      "authorship_tag": "ABX9TyPkkXbKfbwcj3OgfmZhWMoW",
      "include_colab_link": true
    },
    "kernelspec": {
      "name": "python3",
      "display_name": "Python 3"
    }
  },
  "cells": [
    {
      "cell_type": "markdown",
      "metadata": {
        "id": "view-in-github",
        "colab_type": "text"
      },
      "source": [
        "<a href=\"https://colab.research.google.com/github/PatrickAllenCooper/learning-resources/blob/master/Machine_Learning_vs_Deep_Learning.ipynb\" target=\"_parent\"><img src=\"https://colab.research.google.com/assets/colab-badge.svg\" alt=\"Open In Colab\"/></a>"
      ]
    },
    {
      "cell_type": "code",
      "metadata": {
        "id": "zJeDgZ2OYUEj",
        "colab_type": "code",
        "colab": {}
      },
      "source": [
        "import tensorflow as tf\n",
        "from tensorflow import keras\n",
        "from tensorflow.keras import layers\n",
        "import matplotlib.pyplot as plt\n",
        "import numpy as np"
      ],
      "execution_count": 1,
      "outputs": []
    },
    {
      "cell_type": "markdown",
      "metadata": {
        "id": "qrItSBtqYp9S",
        "colab_type": "text"
      },
      "source": [
        "We may find ourselves wondering whether we can use traditional machine learning instead of deep learning to solve a problem.\n",
        "In our case we will define a basic polynomial function and see whether logistic regression (a popular machine learning method) compares to deep learning at predicting the outcomes of a learned representation of that funciton."
      ]
    },
    {
      "cell_type": "code",
      "metadata": {
        "id": "C0CTB7qaYo4q",
        "colab_type": "code",
        "colab": {
          "base_uri": "https://localhost:8080/",
          "height": 136
        },
        "outputId": "9dcb1a4c-1c35-4d85-f708-6e33be36a752"
      },
      "source": [
        "x = -50 + np.random.random((100000, 1))*100\n",
        "y = (x**2+5)*2\n",
        "\n",
        "print(x)"
      ],
      "execution_count": 2,
      "outputs": [
        {
          "output_type": "stream",
          "text": [
            "[[ 0.67289974]\n",
            " [21.11012143]\n",
            " [ 8.48511898]\n",
            " ...\n",
            " [ 3.68080475]\n",
            " [ 5.47966602]\n",
            " [35.90403174]]\n"
          ],
          "name": "stdout"
        }
      ]
    },
    {
      "cell_type": "markdown",
      "metadata": {
        "id": "_7qNqwtYcGvM",
        "colab_type": "text"
      },
      "source": [
        "Now we setup our polynomial regression algorithm."
      ]
    },
    {
      "cell_type": "code",
      "metadata": {
        "id": "D1j9lMzjcRVQ",
        "colab_type": "code",
        "colab": {
          "base_uri": "https://localhost:8080/",
          "height": 316
        },
        "outputId": "b504a583-1bcd-42ee-c6cc-602dad2b5f6e"
      },
      "source": [
        "flat_x = x.flatten()\n",
        "flat_y = y.flatten()\n",
        "\n",
        "poly_model = np.poly1d(np.polyfit(flat_x, flat_y, 3))\n",
        "\n",
        "poly_line = np.linspace(1, 22, 100)\n",
        "\n",
        "plt.scatter(x, y)\n",
        "plt.plot(poly_line, poly_model(poly_line))\n",
        "plt.show()\n",
        "\n",
        "print(\"Generate predictions for 3 samples using polynomial model:\")\n",
        "eval_set = test_inputs[:3]\n",
        "print(\"Evaluation Inputs:\", eval_set)\n",
        "predictions = poly_model(eval_set)\n",
        "print(\"Evaluation Outputs:\", predictions)"
      ],
      "execution_count": null,
      "outputs": [
        {
          "output_type": "display_data",
          "data": {
            "image/png": "[encoded data removed]",
            "text/plain": [
              "<Figure size 432x288 with 1 Axes>"
            ]
          },
          "metadata": {
            "tags": [],
            "needs_background": "light"
          }
        },
        {
          "output_type": "stream",
          "text": [
            "Generate predictions for 3 samples using polynomial model:\n",
            "Evaluation Inputs: [3, 8, 9]\n",
            "Evaluation Outputs: [ 28. 138. 172.]\n"
          ],
          "name": "stdout"
        }
      ]
    },
    {
      "cell_type": "markdown",
      "metadata": {
        "id": "TrT2nBuLcKoJ",
        "colab_type": "text"
      },
      "source": [
        "Next, we setup a modest deep learning algorithm."
      ]
    },
    {
      "cell_type": "code",
      "metadata": {
        "id": "dux8wFK4H2V3",
        "colab_type": "code",
        "colab": {
          "base_uri": "https://localhost:8080/",
          "height": 921
        },
        "outputId": "4a5ecdac-d044-4535-f225-f7808422023f"
      },
      "source": [
        "def build_model():\n",
        "  model = keras.Sequential([\n",
        "    layers.Dense(64, input_dim=1, activation='relu'),\n",
        "    layers.Dense(128, activation='relu'),\n",
        "    layers.Dense(64, activation='relu'),\n",
        "    layers.Dense(1)\n",
        "  ])\n",
        "\n",
        "  optimizer = tf.keras.optimizers.RMSprop(0.001)\n",
        "\n",
        "  # mean square error will work for our purposes here\n",
        "  model.compile(loss='mean_squared_error', optimizer='adam')\n",
        "  return model\n",
        "\n",
        "model = build_model()\n",
        "\n",
        "model.summary()\n",
        "\n",
        "model.fit(x, y, epochs=15, batch_size=50)\n",
        "\n",
        "print(\"Generate predictions for 3 samples using neural network model:\")\n",
        "print(\"Evaluation Inputs:\", eval_set)\n",
        "predictions = model.predict(eval_set)\n",
        "print(\"Evaluation Outputs:\", predictions)\n"
      ],
      "execution_count": null,
      "outputs": [
        {
          "output_type": "stream",
          "text": [
            "Model: \"sequential_35\"\n",
            "_________________________________________________________________\n",
            "Layer (type)                 Output Shape              Param #   \n",
            "=================================================================\n",
            "dense_120 (Dense)            (None, 64)                128       \n",
            "_________________________________________________________________\n",
            "dense_121 (Dense)            (None, 128)               8320      \n",
            "_________________________________________________________________\n",
            "dense_122 (Dense)            (None, 64)                8256      \n",
            "_________________________________________________________________\n",
            "dense_123 (Dense)            (None, 1)                 65        \n",
            "=================================================================\n",
            "Total params: 16,769\n",
            "Trainable params: 16,769\n",
            "Non-trainable params: 0\n",
            "_________________________________________________________________\n",
            "Epoch 1/15\n",
            "2000/2000 [==============================] - 3s 1ms/step - loss: 341541.6250\n",
            "Epoch 2/15\n",
            "2000/2000 [==============================] - 3s 1ms/step - loss: 2011.7408\n",
            "Epoch 3/15\n",
            "2000/2000 [==============================] - 3s 1ms/step - loss: 82.7696\n",
            "Epoch 4/15\n",
            "2000/2000 [==============================] - 3s 1ms/step - loss: 80.3466\n",
            "Epoch 5/15\n",
            "2000/2000 [==============================] - 3s 1ms/step - loss: 51.2264\n",
            "Epoch 6/15\n",
            "2000/2000 [==============================] - 3s 1ms/step - loss: 62.0937\n",
            "Epoch 7/15\n",
            "2000/2000 [==============================] - 3s 1ms/step - loss: 71.0986\n",
            "Epoch 8/15\n",
            "2000/2000 [==============================] - 3s 1ms/step - loss: 97.9894\n",
            "Epoch 9/15\n",
            "2000/2000 [==============================] - 3s 1ms/step - loss: 75.8927\n",
            "Epoch 10/15\n",
            "2000/2000 [==============================] - 3s 1ms/step - loss: 36.7583\n",
            "Epoch 11/15\n",
            "2000/2000 [==============================] - 3s 1ms/step - loss: 78.9486\n",
            "Epoch 12/15\n",
            "2000/2000 [==============================] - 3s 1ms/step - loss: 46.0209\n",
            "Epoch 13/15\n",
            "2000/2000 [==============================] - 3s 1ms/step - loss: 48.2464\n",
            "Epoch 14/15\n",
            "2000/2000 [==============================] - 3s 1ms/step - loss: 55.4092\n",
            "Epoch 15/15\n",
            "2000/2000 [==============================] - 3s 1ms/step - loss: 36.4218\n",
            "Generate predictions for 3 samples using neural network model:\n",
            "Evaluation Inputs: [3, 8, 9]\n",
            "WARNING:tensorflow:11 out of the last 11 calls to <function Model.make_predict_function.<locals>.predict_function at 0x7f004a324400> triggered tf.function retracing. Tracing is expensive and the excessive number of tracings could be due to (1) creating @tf.function repeatedly in a loop, (2) passing tensors with different shapes, (3) passing Python objects instead of tensors. For (1), please define your @tf.function outside of the loop. For (2), @tf.function has experimental_relax_shapes=True option that relaxes argument shapes that can avoid unnecessary retracing. For (3), please refer to https://www.tensorflow.org/tutorials/customization/performance#python_or_tensor_args and https://www.tensorflow.org/api_docs/python/tf/function for  more details.\n",
            "Evaluation Outputs: [[ 28.220585]\n",
            " [138.4254  ]\n",
            " [172.60085 ]]\n"
          ],
          "name": "stdout"
        }
      ]
    },
    {
      "cell_type": "markdown",
      "metadata": {
        "id": "mWRT3LU8Yzf3",
        "colab_type": "text"
      },
      "source": [
        "Most likely, the results you got from both these methods are quite good, but likely the machine learning (polynomial) method performed better.\n",
        "\n",
        "Now, adjust the number of samples and compare the results. It's a different story isn't it? What if we radically complicate the original function?\n",
        "\n",
        "What does this tell us about the strengths and weaknesses of deep learning vs. standard machine learning?\n",
        "\n",
        "“You’re not running a production AI model for your online retail business out of Excel, but that doesn’t mean you can’t look at purchase data, experiment with features that predict product interest, and prototype a targeting model.” - John W. Foreman"
      ]
    }
  ]
}